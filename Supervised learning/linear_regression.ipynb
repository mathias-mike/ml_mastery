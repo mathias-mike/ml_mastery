{
 "cells": [
  {
   "cell_type": "code",
   "execution_count": 1,
   "id": "d14e7772",
   "metadata": {},
   "outputs": [],
   "source": [
    "import random\n",
    "import numpy as np\n",
    "import pandas as pd\n",
    "from matplotlib import pyplot as plt"
   ]
  },
  {
   "cell_type": "code",
   "execution_count": 2,
   "id": "a38dc5c2",
   "metadata": {},
   "outputs": [],
   "source": [
    "# Defining square trick for moving a line closer to a point\n",
    "def square_trick(m, b, r, p, alpha):\n",
    "    \"\"\" This function returns the slope and intercept of a line closer to the point (r, p)\n",
    "    \n",
    "    Args:\n",
    "        m (float): Slope of the line \n",
    "        b (float): y-intercept of the line\n",
    "        r (float): Feature in dataset\n",
    "        p (float): Label in dataset\n",
    "        alpha (+ve float): Learning rate\n",
    "    \n",
    "    Returns:\n",
    "        tupple: Improved slope m1 and improved y-intercept b1\n",
    "    \"\"\"\n",
    "    \n",
    "    p_hat = (r*m) + b\n",
    "    \n",
    "    return (m + (alpha*r*(p-p_hat)), b + (alpha*(p-p_hat)))\n",
    "    \n",
    "    # Observation below doesn't happen here when point (r, p) is on the line. p-p_hat becomes zero so we don't \n",
    "    # move the line."
   ]
  },
  {
   "cell_type": "markdown",
   "id": "2f9597da",
   "metadata": {},
   "source": [
    "\n",
    "\n"
   ]
  },
  {
   "cell_type": "markdown",
   "id": "6598deba",
   "metadata": {},
   "source": [
    "\n",
    "\n"
   ]
  },
  {
   "cell_type": "code",
   "execution_count": 3,
   "id": "1aba1f9a",
   "metadata": {},
   "outputs": [],
   "source": [
    "# Defining the absolute trick for moving line closer to a point\n",
    "def abs_trick(m, b, r, p, alpha):\n",
    "    \"\"\"This function returns the slope and intercept of a line closer to the point (r, p)\n",
    "    \n",
    "    Args:\n",
    "        m (float): Slope of the line \n",
    "        b (float): y-intercept of the line\n",
    "        r (float): Feature in dataset\n",
    "        p (float): Label in dataset\n",
    "        alpha (+ve float): Learning rate\n",
    "    \n",
    "    Returns:\n",
    "        tupple: Improved slope m1 and improved y-intercept b1\n",
    "    \"\"\"\n",
    "    \n",
    "    p_hat = (r*m) + b\n",
    "    \n",
    "    if p > p_hat:\n",
    "        return (m + (alpha*r), b + alpha)\n",
    "    elif p < p_hat:\n",
    "        return (m - (alpha*r), b - alpha)\n",
    "        # One thing to note here is that if the point (r, p) is actually on the line, then we are essentially \n",
    "        # going to be moving the line away from the point and not closer\n",
    "    else:\n",
    "        return (m, b)\n",
    "        # Now seems all is settled    "
   ]
  },
  {
   "cell_type": "markdown",
   "id": "bd94c5c3",
   "metadata": {},
   "source": [
    "\n"
   ]
  },
  {
   "cell_type": "markdown",
   "id": "2fc916e9",
   "metadata": {},
   "source": [
    "\n"
   ]
  },
  {
   "cell_type": "code",
   "execution_count": 4,
   "id": "83db52ec",
   "metadata": {},
   "outputs": [],
   "source": [
    "# Defining the linear regression algorithm\n",
    "def linear_reg_1(r_values, p_values, alpha=0.01, epochs=1000):\n",
    "    \"\"\"This function returns the slope and intercept of a line that fit the data points provided\n",
    "    \n",
    "    Args:\n",
    "        r_values(list): List of features in our dataset. Length = N\n",
    "        p_values(list): List of labels in our dataset. Length = N\n",
    "        alpha(float): Learning rate of our algorithm\n",
    "        epochs(int): Number of iteration of our algorithm\n",
    "        \n",
    "    Returns:\n",
    "        tupple: Slope m and y-intercept b or our model\n",
    "    \"\"\"\n",
    "    \n",
    "    # Pick random slope and intercept to begin with\n",
    "    m = random.random()\n",
    "    b = random.random()\n",
    "    \n",
    "    #Length of lists\n",
    "    N = len(r_values)\n",
    "    \n",
    "    for _ in range(epochs):\n",
    "        index = random.randint(0, N-1)\n",
    "        r = r_values[index]\n",
    "        p = p_values[index]\n",
    "        \n",
    "        m,b = square_trick(m, b, r, p, alpha)\n",
    "    \n",
    "    return (m, b)"
   ]
  },
  {
   "cell_type": "markdown",
   "id": "7ed4163c",
   "metadata": {},
   "source": [
    "\n"
   ]
  },
  {
   "cell_type": "markdown",
   "id": "51471ebe",
   "metadata": {},
   "source": [
    "\n"
   ]
  },
  {
   "cell_type": "markdown",
   "id": "959d339d",
   "metadata": {},
   "source": [
    "\n"
   ]
  },
  {
   "cell_type": "code",
   "execution_count": 5,
   "id": "5689b352",
   "metadata": {},
   "outputs": [],
   "source": [
    "features = np.array([1,2,3,5,6,7])\n",
    "labels = np.array([155, 197, 244, 356, 407, 448])"
   ]
  },
  {
   "cell_type": "code",
   "execution_count": 6,
   "id": "e27ffecd",
   "metadata": {
    "scrolled": true
   },
   "outputs": [],
   "source": [
    "m, b = linear_reg_1(features, labels, alpha=0.01, epochs=10000)"
   ]
  },
  {
   "cell_type": "code",
   "execution_count": 7,
   "id": "2f4ae7e3",
   "metadata": {},
   "outputs": [
    {
     "data": {
      "text/plain": [
       "(50.28104949924813, 100.3807347805447)"
      ]
     },
     "execution_count": 7,
     "metadata": {},
     "output_type": "execute_result"
    }
   ],
   "source": [
    "m, b"
   ]
  },
  {
   "cell_type": "code",
   "execution_count": 8,
   "id": "abcede80",
   "metadata": {},
   "outputs": [],
   "source": [
    "labels_hat = [(r*m)+b for r in features]"
   ]
  },
  {
   "cell_type": "code",
   "execution_count": 9,
   "id": "bd2ef5d9",
   "metadata": {},
   "outputs": [
    {
     "data": {
      "text/plain": [
       "[<matplotlib.lines.Line2D at 0x7f86aa505e80>]"
      ]
     },
     "execution_count": 9,
     "metadata": {},
     "output_type": "execute_result"
    },
    {
     "data": {
      "image/png": "[encoded data removed]",
      "text/plain": [
       "<Figure size 432x288 with 1 Axes>"
      ]
     },
     "metadata": {
      "needs_background": "light"
     },
     "output_type": "display_data"
    }
   ],
   "source": [
    "plt.scatter(features, labels)\n",
    "plt.plot(features, labels_hat);"
   ]
  }
 ],
 "metadata": {
  "kernelspec": {
   "display_name": "Python 3",
   "language": "python",
   "name": "python3"
  },
  "language_info": {
   "codemirror_mode": {
    "name": "ipython",
    "version": 3
   },
   "file_extension": ".py",
   "mimetype": "text/x-python",
   "name": "python",
   "nbconvert_exporter": "python",
   "pygments_lexer": "ipython3",
   "version": "3.9.7"
  }
 },
 "nbformat": 4,
 "nbformat_minor": 5
}
